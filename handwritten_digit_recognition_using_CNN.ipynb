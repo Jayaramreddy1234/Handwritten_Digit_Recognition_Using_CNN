{
  "nbformat": 4,
  "nbformat_minor": 0,
  "metadata": {
    "colab": {
      "provenance": []
    },
    "kernelspec": {
      "name": "python3",
      "display_name": "Python 3"
    },
    "language_info": {
      "name": "python"
    }
  },
  "cells": [
    {
      "cell_type": "code",
      "execution_count": null,
      "metadata": {
        "id": "b0jJwNqIrQut"
      },
      "outputs": [],
      "source": [
        "import numpy as np\n",
        "from keras.datasets import mnist\n",
        "from keras.models import Sequential\n",
        "from keras.layers import Conv2D, MaxPooling2D, Flatten, Dense, Dropout\n",
        "from keras.optimizers import Adam\n",
        "from keras.utils import to_categorical\n",
        "from keras.preprocessing.image import ImageDataGenerator\n"
      ]
    },
    {
      "cell_type": "code",
      "source": [
        "# Load MNIST dataset\n",
        "(x_train, y_train), (x_test, y_test) = mnist.load_data()"
      ],
      "metadata": {
        "colab": {
          "base_uri": "https://localhost:8080/"
        },
        "id": "_7K6MFjCrVXV",
        "outputId": "10d87564-0051-4951-ab0e-a01d8f55141a"
      },
      "execution_count": null,
      "outputs": [
        {
          "output_type": "stream",
          "name": "stdout",
          "text": [
            "Downloading data from https://storage.googleapis.com/tensorflow/tf-keras-datasets/mnist.npz\n",
            "11490434/11490434 [==============================] - 0s 0us/step\n"
          ]
        }
      ]
    },
    {
      "cell_type": "markdown",
      "source": [],
      "metadata": {
        "id": "gh-NW8DCrgdH"
      }
    },
    {
      "cell_type": "code",
      "source": [
        "# Reshape and normalize the input data\n",
        "x_train = x_train.reshape(-1, 28, 28, 1).astype('float32') / 255.0\n",
        "x_test = x_test.reshape(-1, 28, 28, 1).astype('float32') / 255.0"
      ],
      "metadata": {
        "id": "u8_5Zf-drdZr"
      },
      "execution_count": null,
      "outputs": []
    },
    {
      "cell_type": "code",
      "source": [
        "# One-hot encode the target labels\n",
        "y_train = to_categorical(y_train, 10)\n",
        "y_test = to_categorical(y_test, 10)"
      ],
      "metadata": {
        "id": "r8ZS2W_nrjDg"
      },
      "execution_count": null,
      "outputs": []
    },
    {
      "cell_type": "code",
      "source": [
        "# Data augmentation\n",
        "datagen = ImageDataGenerator(\n",
        "    rotation_range=10,\n",
        "    width_shift_range=0.1,\n",
        "    height_shift_range=0.1,\n",
        "    shear_range=0.1,\n",
        "    zoom_range=0.1\n",
        ")\n",
        "datagen.fit(x_train)\n"
      ],
      "metadata": {
        "id": "lvZ8BRVLrl7G"
      },
      "execution_count": null,
      "outputs": []
    },
    {
      "cell_type": "code",
      "source": [
        "# Model architecture\n",
        "model = Sequential([\n",
        "    Conv2D(32, kernel_size=(3, 3), activation='relu', input_shape=(28, 28, 1)),\n",
        "    MaxPooling2D(pool_size=(2, 2)),\n",
        "    Conv2D(64, kernel_size=(3, 3), activation='relu'),\n",
        "    MaxPooling2D(pool_size=(2, 2)),\n",
        "    Flatten(),\n",
        "    Dense(512, activation='relu'),\n",
        "    Dropout(0.5),\n",
        "    Dense(10, activation='softmax')\n",
        "])"
      ],
      "metadata": {
        "id": "6oNefPH_rrOz"
      },
      "execution_count": null,
      "outputs": []
    },
    {
      "cell_type": "code",
      "source": [
        "# Compile the model\n",
        "model.compile(optimizer=Adam(learning_rate=0.001),\n",
        "              loss='categorical_crossentropy',\n",
        "              metrics=['accuracy'])\n"
      ],
      "metadata": {
        "id": "C7TsbmmarvEc"
      },
      "execution_count": null,
      "outputs": []
    },
    {
      "cell_type": "code",
      "source": [
        "# Train the model\n",
        "epochs = 15\n",
        "batch_size = 128\n",
        "history = model.fit(datagen.flow(x_train, y_train, batch_size=batch_size),\n",
        "                    steps_per_epoch=len(x_train) / batch_size,\n",
        "                    epochs=epochs,\n",
        "                    validation_data=(x_test, y_test))"
      ],
      "metadata": {
        "colab": {
          "base_uri": "https://localhost:8080/"
        },
        "id": "wjo7jOSzrxvf",
        "outputId": "e9e0469a-5423-4b69-b65a-a7f47daabe39"
      },
      "execution_count": null,
      "outputs": [
        {
          "output_type": "stream",
          "name": "stdout",
          "text": [
            "Epoch 1/15\n",
            "468/468 [==============================] - 73s 150ms/step - loss: 0.3840 - accuracy: 0.8773 - val_loss: 0.0501 - val_accuracy: 0.9836\n",
            "Epoch 2/15\n",
            "468/468 [==============================] - 65s 139ms/step - loss: 0.1310 - accuracy: 0.9589 - val_loss: 0.0320 - val_accuracy: 0.9898\n",
            "Epoch 3/15\n",
            "468/468 [==============================] - 67s 143ms/step - loss: 0.0939 - accuracy: 0.9714 - val_loss: 0.0231 - val_accuracy: 0.9918\n",
            "Epoch 4/15\n",
            "468/468 [==============================] - 65s 139ms/step - loss: 0.0785 - accuracy: 0.9757 - val_loss: 0.0255 - val_accuracy: 0.9911\n",
            "Epoch 5/15\n",
            "468/468 [==============================] - 65s 139ms/step - loss: 0.0706 - accuracy: 0.9784 - val_loss: 0.0188 - val_accuracy: 0.9929\n",
            "Epoch 6/15\n",
            "468/468 [==============================] - 66s 141ms/step - loss: 0.0635 - accuracy: 0.9803 - val_loss: 0.0206 - val_accuracy: 0.9930\n",
            "Epoch 7/15\n",
            "468/468 [==============================] - 64s 137ms/step - loss: 0.0572 - accuracy: 0.9824 - val_loss: 0.0228 - val_accuracy: 0.9918\n",
            "Epoch 8/15\n",
            "468/468 [==============================] - 67s 142ms/step - loss: 0.0526 - accuracy: 0.9838 - val_loss: 0.0188 - val_accuracy: 0.9934\n",
            "Epoch 9/15\n",
            "468/468 [==============================] - 68s 146ms/step - loss: 0.0524 - accuracy: 0.9846 - val_loss: 0.0181 - val_accuracy: 0.9935\n",
            "Epoch 10/15\n",
            "468/468 [==============================] - 65s 139ms/step - loss: 0.0483 - accuracy: 0.9849 - val_loss: 0.0199 - val_accuracy: 0.9931\n",
            "Epoch 11/15\n",
            "468/468 [==============================] - 65s 139ms/step - loss: 0.0450 - accuracy: 0.9861 - val_loss: 0.0187 - val_accuracy: 0.9939\n",
            "Epoch 12/15\n",
            "468/468 [==============================] - 64s 136ms/step - loss: 0.0454 - accuracy: 0.9863 - val_loss: 0.0210 - val_accuracy: 0.9928\n",
            "Epoch 13/15\n",
            "468/468 [==============================] - 66s 141ms/step - loss: 0.0416 - accuracy: 0.9869 - val_loss: 0.0162 - val_accuracy: 0.9950\n",
            "Epoch 14/15\n",
            "468/468 [==============================] - 65s 138ms/step - loss: 0.0391 - accuracy: 0.9885 - val_loss: 0.0195 - val_accuracy: 0.9936\n",
            "Epoch 15/15\n",
            "468/468 [==============================] - 63s 134ms/step - loss: 0.0374 - accuracy: 0.9883 - val_loss: 0.0177 - val_accuracy: 0.9937\n"
          ]
        }
      ]
    },
    {
      "cell_type": "code",
      "source": [
        "# Evaluate the model\n",
        "test_loss, test_accuracy = model.evaluate(x_test, y_test, verbose=0)\n",
        "print('Test loss:', test_loss)\n",
        "print('Test accuracy:', test_accuracy)"
      ],
      "metadata": {
        "colab": {
          "base_uri": "https://localhost:8080/"
        },
        "id": "6g-wIinkr8ao",
        "outputId": "a832e6a2-e27b-4d84-9061-660001d64ed4"
      },
      "execution_count": null,
      "outputs": [
        {
          "output_type": "stream",
          "name": "stdout",
          "text": [
            "Test loss: 0.017696168273687363\n",
            "Test accuracy: 0.9937000274658203\n"
          ]
        }
      ]
    },
    {
      "cell_type": "code",
      "source": [],
      "metadata": {
        "id": "je3s82IVwGwB"
      },
      "execution_count": null,
      "outputs": []
    }
  ]
}